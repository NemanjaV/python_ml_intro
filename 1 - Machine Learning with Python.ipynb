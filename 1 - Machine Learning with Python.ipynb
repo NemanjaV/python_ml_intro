{
 "cells": [
  {
   "cell_type": "markdown",
   "metadata": {},
   "source": [
    "## 1 - Machine Learning with Python"
   ]
  },
  {
   "cell_type": "markdown",
   "metadata": {},
   "source": [
    "### References: \n",
    "\n",
    "#### Basis for this tutorial\n",
    "\n",
    "- https://github.com/savarin/python_for_ml\n",
    "\n",
    "#### Other great references:\n",
    "\n",
    "- https://github.com/amueller/scipy-2016-sklearn/\n",
    "- Introduction to Machine Learning with Python, Muller & Guido\n",
    "- https://www.kaggle.com/omarelgabry/titanic/a-journey-through-titanic\n",
    "\n",
    "Machine Learning in a Year:\n",
    "- https://medium.com/learning-new-stuff/machine-learning-in-a-year-cdb0b0ebd29c\n",
    "- https://medium.com/xeneta/boosting-sales-with-machine-learning-fbcf2e618be3"
   ]
  },
  {
   "cell_type": "markdown",
   "metadata": {},
   "source": [
    "### The Problem\n",
    "\n",
    "Predict whether a passenger on the titanic will survive. \n",
    "- Input: information about each passenger\n",
    "- Output: whether or not the passenger survived"
   ]
  },
  {
   "cell_type": "code",
   "execution_count": null,
   "metadata": {
    "collapsed": true
   },
   "outputs": [],
   "source": []
  }
 ],
 "metadata": {
  "anaconda-cloud": {},
  "kernelspec": {
   "display_name": "Python [conda root]",
   "language": "python",
   "name": "conda-root-py"
  },
  "language_info": {
   "codemirror_mode": {
    "name": "ipython",
    "version": 3
   },
   "file_extension": ".py",
   "mimetype": "text/x-python",
   "name": "python",
   "nbconvert_exporter": "python",
   "pygments_lexer": "ipython3",
   "version": "3.5.2"
  }
 },
 "nbformat": 4,
 "nbformat_minor": 1
}
