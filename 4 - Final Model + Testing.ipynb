{
 "cells": [
  {
   "cell_type": "markdown",
   "metadata": {},
   "source": [
    "## 4 - Final Model + Testing"
   ]
  },
  {
   "cell_type": "code",
   "execution_count": 1,
   "metadata": {
    "collapsed": true
   },
   "outputs": [],
   "source": [
    "%matplotlib inline\n",
    "import pandas as pd\n",
    "import numpy as np\n",
    "import matplotlib.pyplot as plt\n",
    "\n",
    "from sklearn.model_selection import train_test_split\n",
    "\n",
    "np.random.seed(12)"
   ]
  },
  {
   "cell_type": "code",
   "execution_count": 2,
   "metadata": {
    "collapsed": true
   },
   "outputs": [],
   "source": [
    "df = pd.read_csv('data.csv')\n",
    "\n",
    "y = df.Survived\n",
    "X = df.drop(['Survived'], axis=1)\n",
    "\n",
    "# Check that our columns are correctly updated\n",
    "assert 'Survived' in y.name\n",
    "assert 'Survived' not in X.columns\n",
    "\n",
    "X = X.drop(['PassengerId', 'Name', 'Ticket'], axis=1)"
   ]
  },
  {
   "cell_type": "code",
   "execution_count": 3,
   "metadata": {
    "collapsed": true
   },
   "outputs": [],
   "source": [
    "x_train, x_test, y_train, y_test = train_test_split(X, y, test_size=0.2, random_state=10)\n",
    "x_val, x_test, y_val, y_test = train_test_split(x_test, y_test, test_size=0.5, random_state=10)"
   ]
  },
  {
   "cell_type": "markdown",
   "metadata": {},
   "source": [
    "### Feature Engineering"
   ]
  },
  {
   "cell_type": "code",
   "execution_count": 4,
   "metadata": {
    "collapsed": false
   },
   "outputs": [],
   "source": [
    "# Cabin\n",
    "x_train = x_train.drop(['Cabin'], axis=1)\n",
    "x_test = x_test.drop(['Cabin'], axis=1)\n",
    "\n",
    "# Embarked\n",
    "x_train[\"Embarked\"] = x_train[\"Embarked\"].fillna(\"S\")\n",
    "x_test[\"Embarked\"] = x_test[\"Embarked\"].fillna(\"S\")\n",
    "\n",
    "pd.get_dummies(x_train['Embarked'], prefix='Embarked').head(10)\n",
    "\n",
    "x_train = pd.concat([x_train, pd.get_dummies(x_train['Embarked'], prefix='Embarked')], axis=1)\n",
    "x_test = pd.concat([x_test, pd.get_dummies(x_test['Embarked'], prefix='Embarked')], axis=1)\n",
    "\n",
    "x_train = x_train.drop(['Embarked'], axis=1)\n",
    "x_test = x_test.drop(['Embarked'], axis=1)\n",
    "\n",
    "# Sex\n",
    "x_train['Sex'] = x_train['Sex'].map({'female':0, 'male':1})\n",
    "x_test['Sex'] = x_test['Sex'].map({'female':0, 'male':1})\n",
    "\n",
    "# Age\n",
    "a = [ max(0, np.random.normal(x_train.Age.mean(), x_train.Age.std())) for n in range(0, len(X)) ]\n",
    "x_train.loc[:, 'age_filler'] = pd.Series(a)\n",
    "x_train.loc[x_train.Age.isnull(), 'Age'] = x_train.loc[x_train.Age.isnull(), 'age_filler']\n",
    "\n",
    "a = [ max(0, np.random.normal(x_test.Age.mean(), x_test.Age.std())) for n in range(0, len(X)) ]\n",
    "x_test.loc[:, 'age_filler'] = pd.Series(a)\n",
    "x_test.loc[x_test.Age.isnull(), 'Age'] = x_test.loc[x_test.Age.isnull(), 'age_filler']\n",
    "\n",
    "x_train = x_train.drop(['age_filler'], axis=1)\n",
    "x_test = x_test.drop(['age_filler'], axis=1)\n",
    "\n",
    "# Family\n",
    "x_train.loc[:, 'Family'] =  x_train[\"Parch\"] + x_train[\"SibSp\"]\n",
    "x_train.loc[x_train['Family'] > 0, 'Family'] = 1\n",
    "x_train.loc[x_train['Family'] == 0, 'Family'] = 0\n",
    "\n",
    "x_test.loc[:, 'Family'] =  x_test[\"Parch\"] + x_test[\"SibSp\"]\n",
    "x_test.loc[x_test['Family'] > 0, 'Family'] = 1\n",
    "x_test.loc[x_test['Family'] == 0, 'Family'] = 0\n",
    "\n",
    "x_train = x_train.drop(['SibSp'], axis=1)\n",
    "x_test = x_test.drop(['SibSp'], axis=1)\n",
    "\n",
    "x_train = x_train.drop(['Parch'], axis=1)\n",
    "x_test = x_test.drop(['Parch'], axis=1)"
   ]
  },
  {
   "cell_type": "markdown",
   "metadata": {},
   "source": [
    "### Final Model\n",
    "\n",
    "Since we have specified our final model, now we can use the test data. Note the validation and training data should be used together at this point to train our model. More training data is always better."
   ]
  },
  {
   "cell_type": "code",
   "execution_count": 5,
   "metadata": {
    "collapsed": false
   },
   "outputs": [],
   "source": [
    "from sklearn import tree, ensemble\n",
    "\n",
    "model = ensemble.RandomForestClassifier(n_estimators=1000, max_depth=5, random_state=10)\n",
    "\n",
    "model = model.fit(x_train, y_train)"
   ]
  },
  {
   "cell_type": "code",
   "execution_count": 6,
   "metadata": {
    "collapsed": false
   },
   "outputs": [
    {
     "data": {
      "text/plain": [
       "0.87777777777777777"
      ]
     },
     "execution_count": 6,
     "metadata": {},
     "output_type": "execute_result"
    }
   ],
   "source": [
    "model.score(x_test, y_test)"
   ]
  },
  {
   "cell_type": "markdown",
   "metadata": {},
   "source": [
    "### Future Data\n",
    "\n",
    "What model should we use if we have more data coming in the future?\n",
    "\n",
    "Since we have selected our final model, we should train our model on the entire dataset available."
   ]
  },
  {
   "cell_type": "markdown",
   "metadata": {},
   "source": [
    "### Feature importances"
   ]
  },
  {
   "cell_type": "code",
   "execution_count": 7,
   "metadata": {
    "collapsed": false
   },
   "outputs": [
    {
     "data": {
      "text/html": [
       "<div>\n",
       "<table border=\"1\" class=\"dataframe\">\n",
       "  <thead>\n",
       "    <tr style=\"text-align: right;\">\n",
       "      <th></th>\n",
       "      <th>importance</th>\n",
       "    </tr>\n",
       "  </thead>\n",
       "  <tbody>\n",
       "    <tr>\n",
       "      <th>Sex</th>\n",
       "      <td>0.443578</td>\n",
       "    </tr>\n",
       "    <tr>\n",
       "      <th>Fare</th>\n",
       "      <td>0.191929</td>\n",
       "    </tr>\n",
       "    <tr>\n",
       "      <th>Pclass</th>\n",
       "      <td>0.151541</td>\n",
       "    </tr>\n",
       "    <tr>\n",
       "      <th>Age</th>\n",
       "      <td>0.115865</td>\n",
       "    </tr>\n",
       "    <tr>\n",
       "      <th>Family</th>\n",
       "      <td>0.033980</td>\n",
       "    </tr>\n",
       "    <tr>\n",
       "      <th>Embarked_S</th>\n",
       "      <td>0.028059</td>\n",
       "    </tr>\n",
       "    <tr>\n",
       "      <th>Embarked_C</th>\n",
       "      <td>0.023824</td>\n",
       "    </tr>\n",
       "    <tr>\n",
       "      <th>Embarked_Q</th>\n",
       "      <td>0.011225</td>\n",
       "    </tr>\n",
       "  </tbody>\n",
       "</table>\n",
       "</div>"
      ],
      "text/plain": [
       "            importance\n",
       "Sex           0.443578\n",
       "Fare          0.191929\n",
       "Pclass        0.151541\n",
       "Age           0.115865\n",
       "Family        0.033980\n",
       "Embarked_S    0.028059\n",
       "Embarked_C    0.023824\n",
       "Embarked_Q    0.011225"
      ]
     },
     "execution_count": 7,
     "metadata": {},
     "output_type": "execute_result"
    }
   ],
   "source": [
    "pd.DataFrame(list(model.feature_importances_), index=x_train.columns.tolist(), columns=['importance']).sort_values('importance', ascending=False)"
   ]
  },
  {
   "cell_type": "code",
   "execution_count": null,
   "metadata": {
    "collapsed": true
   },
   "outputs": [],
   "source": []
  }
 ],
 "metadata": {
  "anaconda-cloud": {},
  "kernelspec": {
   "display_name": "Python [conda root]",
   "language": "python",
   "name": "conda-root-py"
  },
  "language_info": {
   "codemirror_mode": {
    "name": "ipython",
    "version": 3
   },
   "file_extension": ".py",
   "mimetype": "text/x-python",
   "name": "python",
   "nbconvert_exporter": "python",
   "pygments_lexer": "ipython3",
   "version": "3.5.2"
  }
 },
 "nbformat": 4,
 "nbformat_minor": 1
}
